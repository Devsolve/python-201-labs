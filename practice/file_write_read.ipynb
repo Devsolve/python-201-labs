{
 "cells": [
  {
   "cell_type": "markdown",
   "metadata": {},
   "source": [
    "### Write to File"
   ]
  },
  {
   "cell_type": "code",
   "execution_count": 31,
   "metadata": {},
   "outputs": [],
   "source": [
    "import csv\n",
    "import pathlib"
   ]
  },
  {
   "cell_type": "code",
   "execution_count": 3,
   "metadata": {},
   "outputs": [],
   "source": [
    "counter = {'': 8, '.md': 4, '.csv': 6, '.png': 9}\n",
    "file_out = open('file_counter.txt','w')\n",
    "file_out.write(str(counter))\n",
    "file_out.close()"
   ]
  },
  {
   "cell_type": "markdown",
   "metadata": {},
   "source": [
    "### Append to File"
   ]
  },
  {
   "cell_type": "code",
   "execution_count": 6,
   "metadata": {},
   "outputs": [],
   "source": [
    "file_out=open(\"file_counter.txt\",\"a\")\n",
    "file_out.write('\\n')\n",
    "file_out.write(str(counter))\n",
    "file_out.close()"
   ]
  },
  {
   "cell_type": "markdown",
   "metadata": {},
   "source": [
    "### Read File"
   ]
  },
  {
   "cell_type": "code",
   "execution_count": 9,
   "metadata": {},
   "outputs": [
    {
     "name": "stdout",
     "output_type": "stream",
     "text": [
      "{'': 8, '.md': 4, '.csv': 6, '.png': 9}\n",
      "\n",
      "{'': 8, '.md': 4, '.csv': 6, '.png': 9}\n",
      "{'': 8, '.md': 4, '.csv': 6, '.png': 9}\n",
      "<class 'str'>\n"
     ]
    }
   ],
   "source": [
    "file_in = open('file_counter.txt','r')\n",
    "contents = file_in.read()\n",
    "file_in.close()\n",
    "print(contents)\n",
    "print(type(contents))"
   ]
  },
  {
   "cell_type": "markdown",
   "metadata": {},
   "source": [
    "### with - File Context Manager"
   ]
  },
  {
   "cell_type": "code",
   "execution_count": 11,
   "metadata": {},
   "outputs": [],
   "source": [
    "with open(\"file_counter.txt\",\"w\") as file_out:\n",
    "     file_out.write(str(counter))"
   ]
  },
  {
   "cell_type": "code",
   "execution_count": 12,
   "metadata": {},
   "outputs": [],
   "source": [
    "with open(\"file_counter.txt\", \"a\") as file_out:\n",
    "     file_out.write(\"\\n\")\n",
    "     file_out.write(str(counter))"
   ]
  },
  {
   "cell_type": "code",
   "execution_count": 13,
   "metadata": {},
   "outputs": [
    {
     "name": "stdout",
     "output_type": "stream",
     "text": [
      "{'': 8, '.md': 4, '.csv': 6, '.png': 9}\n",
      "{'': 8, '.md': 4, '.csv': 6, '.png': 9}\n"
     ]
    }
   ],
   "source": [
    "with open(\"file_counter.txt\", \"r\") as file_in:\n",
    "     print(file_in.read())"
   ]
  },
  {
   "cell_type": "markdown",
   "metadata": {},
   "source": [
    "### CSV File Creation"
   ]
  },
  {
   "cell_type": "code",
   "execution_count": 14,
   "metadata": {},
   "outputs": [],
   "source": [
    "import csv\n",
    "\n",
    "count = {'': 8, '.md': 4, '.csv': 6, '.png': 9}\n",
    "\n",
    "with open(\"fileCount.csv\", \"a\") as csvfile:\n",
    "     countwriter = csv.writer()\n",
    "     data = [count[\"\"], count['.csv'], count['.md'], count['.png']]\n",
    "     countwriter.writerow(data)"
   ]
  },
  {
   "cell_type": "markdown",
   "metadata": {},
   "source": [
    "### Python: Open File and Read CSV Data "
   ]
  },
  {
   "cell_type": "markdown",
   "metadata": {},
   "source": [
    "#### Create and write data in CSV file"
   ]
  },
  {
   "cell_type": "code",
   "execution_count": 8,
   "metadata": {},
   "outputs": [
    {
     "name": "stdout",
     "output_type": "stream",
     "text": [
      "[{'Name': 'Tony', 'Age': 14, 'Gender': 'Male'}, {'Name': 'Emma', 'Age': 15, 'Gender': 'Female'}, {'Name': 'Rishi', 'Age': 14, 'Gender': 'Male'}, {'Name': 'Zara', 'Age': 16, 'Gender': 'Female'}]\n",
      "['Name', 'Age', 'Gender']\n",
      "[['Tony', 14, 'Male'], ['Emma', 15, 'Female'], ['Rishi', 14, 'Male'], ['Zara', 16, 'Female']]\n"
     ]
    }
   ],
   "source": [
    "import csv\n",
    "\n",
    "header = ['Name', 'Age', 'Gender']\n",
    "data = [\n",
    "    ['Tony', 14, 'Male'],\n",
    "    ['Emma', 15, 'Female'],\n",
    "    ['Rishi', 14, 'Male'],\n",
    "    ['Zara', 16, 'Female']\n",
    "]\n",
    "\n",
    "dict_data = [dict(zip(header,r)) for r in data]\n",
    "print(dict_data)\n",
    "keys = list(dict_data[0].keys())\n",
    "print(keys)\n",
    "list_data = [list(d.values()) for d in dict_data]\n",
    "print(list_data)\n",
    "\n",
    "\n",
    "\n",
    "\n",
    "# with open(\"firendAgeCount.csv\",\"w\", newline='') as csvfile:\n",
    "#      writer = csv.writer(csvfile)\n",
    "#      writer.writerow(header)\n",
    "#      writer.writerows(data)\n",
    "     \n",
    "with open('nameAgeGenderData.csv','w',newline='') as csvfile:\n",
    "     writer = csv.writer(csvfile)\n",
    "     writer.writerow(keys)\n",
    "     writer.writerows(list_data)"
   ]
  },
  {
   "cell_type": "markdown",
   "metadata": {},
   "source": [
    "#### Read the data from CSV File"
   ]
  },
  {
   "cell_type": "code",
   "execution_count": 11,
   "metadata": {},
   "outputs": [
    {
     "name": "stdout",
     "output_type": "stream",
     "text": [
      "[{'Name': 'Tony', 'Age': '14', 'Gender': 'Male'}, {'Name': 'Emma', 'Age': '15', 'Gender': 'Female'}, {'Name': 'Rishi', 'Age': '14', 'Gender': 'Male'}, {'Name': 'Zara', 'Age': '16', 'Gender': 'Female'}]\n"
     ]
    }
   ],
   "source": [
    "import csv\n",
    "\n",
    "with open(\"nameAgeGenderData.csv\",\"r\") as csvfile:\n",
    "     reader = csv.DictReader(csvfile,fieldnames=None)\n",
    "     list_reader = list(reader)\n",
    "\n",
    "print(list_reader)"
   ]
  },
  {
   "cell_type": "code",
   "execution_count": 4,
   "metadata": {},
   "outputs": [
    {
     "name": "stdout",
     "output_type": "stream",
     "text": [
      "Yes\n"
     ]
    }
   ],
   "source": [
    "import pathlib\n",
    "\n",
    "# find the path to desktop\n",
    "desktop = pathlib.Path('/Users/arghya/Desktop')\n",
    "\n",
    "# Check the path is exists or not\n",
    "if desktop.exists():\n",
    "     print(\"Yes\")\n",
    "else:\n",
    "     print(\"No\")\n",
    "     \n",
    "# create a new folder path => screenshots\n",
    "scrn_shot_path = pathlib.Path(\"/Users/arghya/Desktop/screenshots\")\n",
    "# create the folder\n",
    "scrn_shot_path.mkdir(exist_ok=True)\n",
    "\n",
    "suffix_counts = {}\n",
    "for filepath in desktop.iterdir():\n",
    "     \n",
    "     # Filter for screenshorts only\n",
    "     if filepath.suffix == '.png' or filepath.suffix == '.jpg':\n",
    "          new_file_path = scrn_shot_path.joinpath(filepath.name)\n",
    "          # send all the png file to screenshot folder\n",
    "          filepath.replace(new_file_path)\n",
    "\n",
    "     \n",
    "#      if filepath.is_file: # Ensure it's a file\n",
    "#           suffix = filepath.suffix \n",
    "#           if suffix in suffix_counts:   \n",
    "#                suffix_counts[suffix] += 1 \n",
    "#           else: \n",
    "#                suffix_counts[suffix] = 1\n",
    "     \n",
    "# print(\"Unique file suffixes:\", suffix_counts) \n",
    "# print(\"Number of unique suffixes:\", len(suffixes))\n"
   ]
  },
  {
   "cell_type": "markdown",
   "metadata": {},
   "source": [
    "##### Read a Text file"
   ]
  },
  {
   "cell_type": "code",
   "execution_count": 34,
   "metadata": {},
   "outputs": [
    {
     "name": "stdout",
     "output_type": "stream",
     "text": [
      "After defining your data_path, you can use it as usual inside your context manager, where you're providing the file name. With .joinpath(), you're adding the file name to the Path() object, which provides open() with the location of the file you want to open. The rest of the code stays exactly the same.\n",
      "\n"
     ]
    }
   ],
   "source": [
    "from pathlib import Path\n",
    "dir_path = Path(\"/Users/arghya/Desktop\")\n",
    "\n",
    "with open(dir_path.joinpath(\"test.txt\"), \"r\") as file_in:\n",
    "     print(file_in.read())"
   ]
  },
  {
   "cell_type": "markdown",
   "metadata": {},
   "source": [
    "### Alternative way to do that"
   ]
  },
  {
   "cell_type": "code",
   "execution_count": 35,
   "metadata": {},
   "outputs": [
    {
     "name": "stdout",
     "output_type": "stream",
     "text": [
      "After defining your data_path, you can use it as usual inside your context manager, where you're providing the file name. With .joinpath(), you're adding the file name to the Path() object, which provides open() with the location of the file you want to open. The rest of the code stays exactly the same.\n",
      "\n"
     ]
    }
   ],
   "source": [
    "from pathlib import Path\n",
    "file_path = Path(\"/Users/arghya/Desktop/test.txt\")\n",
    "\n",
    "with file_path.open() as f:\n",
    "     print(f.read())"
   ]
  },
  {
   "cell_type": "markdown",
   "metadata": {},
   "source": [
    "#### quick way to write and read usinf Path"
   ]
  },
  {
   "cell_type": "code",
   "execution_count": 41,
   "metadata": {},
   "outputs": [
    {
     "data": {
      "text/plain": [
       "\"Practice reading and writing to files with your lab exercises, and think about something you'd like to build that involves reading from and writing to files. \\n Take a note in your journal to keep track of your ideas.\""
      ]
     },
     "execution_count": 41,
     "metadata": {},
     "output_type": "execute_result"
    }
   ],
   "source": [
    "from pathlib import Path\n",
    "\n",
    "p = Path(\"hello.txt\")\n",
    "p.write_text(\"Practice reading and writing to files with your lab exercises, and think about something you'd like to build that involves reading from and writing to files. \\n Take a note in your journal to keep track of your ideas.\")\n",
    "p.read_text()"
   ]
  },
  {
   "cell_type": "code",
   "execution_count": 42,
   "metadata": {},
   "outputs": [
    {
     "name": "stdout",
     "output_type": "stream",
     "text": [
      "[\"Practice reading and writing to files with your lab exercises, and think about something you'd like to build that involves reading from and writing to files. \\n\", ' Take a note in your journal to keep track of your ideas.']\n"
     ]
    }
   ],
   "source": [
    "fin = open(\"hello.txt\", \"r\")\n",
    "print(fin.readlines())\n",
    "fin.close()"
   ]
  },
  {
   "cell_type": "code",
   "execution_count": null,
   "metadata": {},
   "outputs": [],
   "source": []
  }
 ],
 "metadata": {
  "kernelspec": {
   "display_name": "Python 3",
   "language": "python",
   "name": "python3"
  },
  "language_info": {
   "codemirror_mode": {
    "name": "ipython",
    "version": 3
   },
   "file_extension": ".py",
   "mimetype": "text/x-python",
   "name": "python",
   "nbconvert_exporter": "python",
   "pygments_lexer": "ipython3",
   "version": "3.10.5"
  }
 },
 "nbformat": 4,
 "nbformat_minor": 2
}
