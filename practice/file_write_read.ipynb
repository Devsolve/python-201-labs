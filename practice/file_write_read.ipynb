{
 "cells": [
  {
   "cell_type": "markdown",
   "metadata": {},
   "source": [
    "### Write to File"
   ]
  },
  {
   "cell_type": "code",
   "execution_count": 3,
   "metadata": {},
   "outputs": [],
   "source": [
    "counter = {'': 8, '.md': 4, '.csv': 6, '.png': 9}\n",
    "file_out = open('file_counter.txt','w')\n",
    "file_out.write(str(counter))\n",
    "file_out.close()"
   ]
  },
  {
   "cell_type": "markdown",
   "metadata": {},
   "source": [
    "### Append to File"
   ]
  },
  {
   "cell_type": "code",
   "execution_count": 6,
   "metadata": {},
   "outputs": [],
   "source": [
    "file_out=open(\"file_counter.txt\",\"a\")\n",
    "file_out.write('\\n')\n",
    "file_out.write(str(counter))\n",
    "file_out.close()"
   ]
  },
  {
   "cell_type": "markdown",
   "metadata": {},
   "source": [
    "### Read File"
   ]
  },
  {
   "cell_type": "code",
   "execution_count": 9,
   "metadata": {},
   "outputs": [
    {
     "name": "stdout",
     "output_type": "stream",
     "text": [
      "{'': 8, '.md': 4, '.csv': 6, '.png': 9}\n",
      "\n",
      "{'': 8, '.md': 4, '.csv': 6, '.png': 9}\n",
      "{'': 8, '.md': 4, '.csv': 6, '.png': 9}\n",
      "<class 'str'>\n"
     ]
    }
   ],
   "source": [
    "file_in = open('file_counter.txt','r')\n",
    "contents = file_in.read()\n",
    "file_in.close()\n",
    "print(contents)\n",
    "print(type(contents))"
   ]
  },
  {
   "cell_type": "markdown",
   "metadata": {},
   "source": [
    "### with - File Context Manager"
   ]
  },
  {
   "cell_type": "code",
   "execution_count": 11,
   "metadata": {},
   "outputs": [],
   "source": [
    "with open(\"file_counter.txt\",\"w\") as file_out:\n",
    "     file_out.write(str(counter))"
   ]
  },
  {
   "cell_type": "code",
   "execution_count": 12,
   "metadata": {},
   "outputs": [],
   "source": [
    "with open(\"file_counter.txt\", \"a\") as file_out:\n",
    "     file_out.write(\"\\n\")\n",
    "     file_out.write(str(counter))"
   ]
  },
  {
   "cell_type": "code",
   "execution_count": 13,
   "metadata": {},
   "outputs": [
    {
     "name": "stdout",
     "output_type": "stream",
     "text": [
      "{'': 8, '.md': 4, '.csv': 6, '.png': 9}\n",
      "{'': 8, '.md': 4, '.csv': 6, '.png': 9}\n"
     ]
    }
   ],
   "source": [
    "with open(\"file_counter.txt\", \"r\") as file_in:\n",
    "     print(file_in.read())"
   ]
  },
  {
   "cell_type": "markdown",
   "metadata": {},
   "source": [
    "### CSV File Creation"
   ]
  },
  {
   "cell_type": "code",
   "execution_count": 14,
   "metadata": {},
   "outputs": [],
   "source": [
    "import csv\n",
    "\n",
    "count = {'': 8, '.md': 4, '.csv': 6, '.png': 9}\n",
    "\n",
    "with open(\"fileCount.csv\", \"a\") as csvfile:\n",
    "     countwriter = csv.writer(csvfile)\n",
    "     data = [count[\"\"], count['.csv'], count['.md'], count['.png']]\n",
    "     countwriter.writerow(data)"
   ]
  },
  {
   "cell_type": "markdown",
   "metadata": {},
   "source": [
    "### Python: Open File and Read CSV Data "
   ]
  },
  {
   "cell_type": "markdown",
   "metadata": {},
   "source": []
  }
 ],
 "metadata": {
  "kernelspec": {
   "display_name": "Python 3",
   "language": "python",
   "name": "python3"
  },
  "language_info": {
   "codemirror_mode": {
    "name": "ipython",
    "version": 3
   },
   "file_extension": ".py",
   "mimetype": "text/x-python",
   "name": "python",
   "nbconvert_exporter": "python",
   "pygments_lexer": "ipython3",
   "version": "3.10.5"
  }
 },
 "nbformat": 4,
 "nbformat_minor": 2
}
