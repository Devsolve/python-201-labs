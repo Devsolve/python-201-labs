{
 "cells": [
  {
   "cell_type": "markdown",
   "metadata": {},
   "source": [
    "## List"
   ]
  },
  {
   "cell_type": "markdown",
   "metadata": {},
   "source": [
    "#### Creating Lists\n",
    "##### There are two different ways to create a list in Python:\n",
    "\n",
    "##### Using square brackets ([]) around elements that are separated by commas (,) Using list() on a sequence of elements that can be converted to a list\n"
   ]
  },
  {
   "cell_type": "code",
   "execution_count": 1,
   "metadata": {},
   "outputs": [
    {
     "name": "stdout",
     "output_type": "stream",
     "text": [
      "[1, 42, 'hello']\n",
      "[1, 42, 'hello']\n"
     ]
    }
   ],
   "source": [
    "# Square Brackets\n",
    "list1 = [1, 42, \"hello\"]\n",
    "print(list1)  # OUTPUT: [1, 42, \"hello\"]\n",
    "\n",
    "# List Function\n",
    "tup = (1, 42, \"hello\")\n",
    "list2 = list(tup)\n",
    "print(list2)  # OUTPUT: [1, 42, \"hello\"]\n"
   ]
  },
  {
   "cell_type": "markdown",
   "metadata": {},
   "source": [
    "#### List Practise\n",
    "##### Revisit the lesson on string slicing and apply the concepts to your list.  Access the last element in a list using negative indexing.  Create a longer bucket list with at least six items.  Then, use slicing and steps to pick out only every second element in the list. Don't use a loop for this!\n"
   ]
  },
  {
   "cell_type": "code",
   "execution_count": 2,
   "metadata": {},
   "outputs": [
    {
     "name": "stdout",
     "output_type": "stream",
     "text": [
      "last element: 6\n"
     ]
    }
   ],
   "source": [
    "list1 = [1,2,3,4,5,6]\n",
    "print(f'last element: {list1[-1]}')"
   ]
  },
  {
   "cell_type": "code",
   "execution_count": 3,
   "metadata": {},
   "outputs": [
    {
     "name": "stdout",
     "output_type": "stream",
     "text": [
      "Every second element of the list: ['Visit the Grand Canyon', 'Go skydiving', 'Travel to Japan', 'Learn a new language']\n"
     ]
    }
   ],
   "source": [
    "list2 = [\"Visit the Grand Canyon\",\n",
    "    \"Continue my business\",\n",
    "    \"Go skydiving\",\n",
    "    \"Write a book\",\n",
    "    \"Travel to Japan\",\n",
    "    \"Run a marathon\",\n",
    "    \"Learn a new language\",\n",
    "    \"Start a YouTube channel\"]\n",
    "\n",
    "print(f'Every second element of the list: {list2[::2]}')"
   ]
  },
  {
   "cell_type": "code",
   "execution_count": 3,
   "metadata": {},
   "outputs": [
    {
     "name": "stdout",
     "output_type": "stream",
     "text": [
      "True\n",
      "False\n",
      "True\n",
      "[1, '3', 3, 4]\n",
      "[1, '3', 3, 4]\n"
     ]
    }
   ],
   "source": [
    "a = [1,2,3,4]\n",
    "b = [1,2,3,4]\n",
    "\n",
    "print(a == b)\n",
    "\n",
    "print(a is b)\n",
    "\n",
    "# now assigninf a=b\n",
    "# You might think that you're still referencing different objects with a and b, but in reality, they point to one and the same list. Therefore, and because you can change lists if you now make a change to b, then it'll also be reflected in a\n",
    "b = a\n",
    "print(a is b)\n",
    "\n",
    "a[1]=\"3\"\n",
    "print(a)\n",
    "print(b)"
   ]
  },
  {
   "cell_type": "markdown",
   "metadata": {},
   "source": [
    "### Python Methods"
   ]
  },
  {
   "cell_type": "code",
   "execution_count": 3,
   "metadata": {},
   "outputs": [
    {
     "name": "stdout",
     "output_type": "stream",
     "text": [
      "['so much raining', 'all shops are colsed', 'medicine shops are opened only', 'we will eat hochpoch']\n",
      "['so much raining', 'all shops are colsed', 'medicine shops are opened only', 'we will eat hochpoch', 'I have made egg potch']\n",
      "['so much raining', 'all shops are colsed', 'medicine shops are opened only', 'we will eat hochpoch']\n",
      "I have made egg potch\n",
      "['reading python', 'do python exercise']\n",
      "['reading python', 'do python exercise', 'I have made egg potch']\n"
     ]
    }
   ],
   "source": [
    "today_list = [\"so much raining\", \"all shops are colsed\", \"medicine shops are opened only\", \"we will eat hochpoch\"]\n",
    "print(today_list)\n",
    "today_list.append(\"I have made egg potch\") # add item at the end\n",
    "print(today_list)\n",
    "today_eat = today_list.pop()  # remove the last element from the list and return the remove element, which can be use somewhere other place\n",
    "print(today_list)\n",
    "print(today_eat)\n",
    "another_list = [\"reading python\", \"do python exercise\"] \n",
    "print(another_list)\n",
    "another_list.append(today_eat)\n",
    "print(another_list)"
   ]
  },
  {
   "cell_type": "markdown",
   "metadata": {},
   "source": [
    "#### Removing and Inserting Items"
   ]
  },
  {
   "cell_type": "code",
   "execution_count": 8,
   "metadata": {},
   "outputs": [
    {
     "name": "stdout",
     "output_type": "stream",
     "text": [
      "['so much raining', 'medicine shops are opened only', 'I have made egg potch']\n"
     ]
    }
   ],
   "source": [
    "today_another_list = ['so much raining', 'all shops are colsed', 'medicine shops are opened only', 'we will eat hochpoch', 'I have made egg potch']\n",
    "today_another_list.remove(\"all shops are colsed\")\n",
    "today_another_list.remove(today_another_list[-2])\n",
    "print(today_another_list)"
   ]
  },
  {
   "cell_type": "code",
   "execution_count": 16,
   "metadata": {},
   "outputs": [
    {
     "name": "stdout",
     "output_type": "stream",
     "text": [
      "[1, 3, 2]\n"
     ]
    }
   ],
   "source": [
    "a = [1, 2, 3, 2]\n",
    "a.remove(a[3])\n",
    "print(a)\n",
    "\n",
    "# always first accurance will be removed\n"
   ]
  },
  {
   "cell_type": "code",
   "execution_count": 17,
   "metadata": {},
   "outputs": [
    {
     "name": "stdout",
     "output_type": "stream",
     "text": [
      "[1, 4, 3, 6, 9, 2, 8, 7]\n",
      "[1, 2, 3, 4, 6, 7, 8, 9]\n"
     ]
    }
   ],
   "source": [
    "a = [1,4,3,6,9,2,8,7]\n",
    "print(a)\n",
    "a.sort()\n",
    "print(a)"
   ]
  },
  {
   "cell_type": "code",
   "execution_count": null,
   "metadata": {},
   "outputs": [],
   "source": []
  }
 ],
 "metadata": {
  "kernelspec": {
   "display_name": "Python 3",
   "language": "python",
   "name": "python3"
  },
  "language_info": {
   "codemirror_mode": {
    "name": "ipython",
    "version": 3
   },
   "file_extension": ".py",
   "mimetype": "text/x-python",
   "name": "python",
   "nbconvert_exporter": "python",
   "pygments_lexer": "ipython3",
   "version": "3.10.5"
  }
 },
 "nbformat": 4,
 "nbformat_minor": 2
}
