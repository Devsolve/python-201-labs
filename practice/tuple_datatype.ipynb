{
 "cells": [
  {
   "cell_type": "markdown",
   "metadata": {},
   "source": [
    "#                      Tuple"
   ]
  },
  {
   "cell_type": "markdown",
   "metadata": {},
   "source": [
    "#### What is Tuple?\n",
    "##### Tuple is a Python data structure which are ordered and immutable.Python tuples are written within parentheses. Tuples are immutable, and usually contain a heterogeneous sequence of elements that are accessed via unpacking or indexing."
   ]
  },
  {
   "cell_type": "markdown",
   "metadata": {},
   "source": [
    "### Tuple creation process"
   ]
  },
  {
   "cell_type": "markdown",
   "metadata": {},
   "source": [
    "##### 1. To create a tuple with a single item, we have to add a trailing comma"
   ]
  },
  {
   "cell_type": "code",
   "execution_count": 7,
   "metadata": {},
   "outputs": [
    {
     "name": "stdout",
     "output_type": "stream",
     "text": [
      "blue\n",
      "<class 'str'>\n",
      "('data',)\n",
      "<class 'tuple'>\n"
     ]
    }
   ],
   "source": [
    "\n",
    "#Output is a string.So,if we create tuple with one item, we have to add  comma , at the end.\n",
    "t2=('blue')\n",
    "print (t2) #Output: blue\n",
    "print (type(t2))#Output:<class 'str'>\n",
    "\n",
    "\n",
    "#If we create tuple with one item , we have to add comma at the end.\n",
    "\n",
    "a = \"data\",\n",
    "print(a)\n",
    "print(type(a))"
   ]
  },
  {
   "cell_type": "markdown",
   "metadata": {},
   "source": [
    "##### 2. Using tuple constructor:"
   ]
  },
  {
   "cell_type": "markdown",
   "metadata": {},
   "source": [
    "##### i. tuple()"
   ]
  },
  {
   "cell_type": "code",
   "execution_count": 8,
   "metadata": {},
   "outputs": [
    {
     "name": "stdout",
     "output_type": "stream",
     "text": [
      "('red', 'blue', 'green')\n",
      "(1, 2, 3)\n",
      "('red', 'blue', 'green', 1, 2, 3)\n"
     ]
    }
   ],
   "source": [
    "t=tuple(('red','blue','green'))\n",
    "print (t) #Output: ('red', 'blue', 'green')\n",
    "\n",
    "t1=tuple((1,2,3))\n",
    "print (t1) #Output:(1, 2, 3)\n",
    "\n",
    "t2=tuple(('red','blue','green',1,2,3))\n",
    "print (t2) #Output: ('red', 'blue', 'green', 1, 2, 3)"
   ]
  },
  {
   "cell_type": "markdown",
   "metadata": {},
   "source": [
    "##### ii. tuple(iterable)"
   ]
  },
  {
   "cell_type": "markdown",
   "metadata": {},
   "source": [
    "iterable can be a sequence, a container that supports iteration, or an iterator object."
   ]
  },
  {
   "cell_type": "markdown",
   "metadata": {},
   "source": [
    "##### a. iterable can be sequence like list, string."
   ]
  },
  {
   "cell_type": "code",
   "execution_count": 9,
   "metadata": {},
   "outputs": [
    {
     "name": "stdout",
     "output_type": "stream",
     "text": [
      "('h', 'e', 'l', 'l', 'o')\n",
      "(1, 2, 3)\n"
     ]
    }
   ],
   "source": [
    "#iterable is given as 'string'\n",
    "t=tuple(\"hello\")\n",
    "print (t)#Output:('h', 'e', 'l', 'l', 'o')\n",
    "\n",
    "#iterable is given as list\n",
    "t1=tuple([1,2,3])\n",
    "print (t1)#Output:(1, 2, 3)"
   ]
  },
  {
   "cell_type": "markdown",
   "metadata": {},
   "source": [
    "##### b. iterable can be containers that support iteration like a set,dict"
   ]
  },
  {
   "cell_type": "code",
   "execution_count": 10,
   "metadata": {},
   "outputs": [
    {
     "name": "stdout",
     "output_type": "stream",
     "text": [
      "(1, 2, 3, 4)\n",
      "('a', 'b')\n"
     ]
    }
   ],
   "source": [
    "#iterable is given as set\n",
    "t2=tuple({1,2,3,4})\n",
    "print (t2)#Output:(1, 2, 3, 4)\n",
    "\n",
    "#iterable is given as dict\n",
    "t3=tuple({'a':1,'b':2})\n",
    "#dict keys are converted to tuple\n",
    "print (t3)#Output:('a', 'b')"
   ]
  },
  {
   "cell_type": "markdown",
   "metadata": {},
   "source": [
    "##### c. iterable can contain an iterator object also."
   ]
  },
  {
   "cell_type": "code",
   "execution_count": 11,
   "metadata": {},
   "outputs": [
    {
     "name": "stdout",
     "output_type": "stream",
     "text": [
      "<reversed object at 0x106ac0bb0>\n",
      "('o', 'l', 'l', 'e', 'h')\n"
     ]
    }
   ],
   "source": [
    "t5=reversed(\"hello\")\n",
    "#returns an iterator object\n",
    "print (t5)#Output:<reversed object at 0x0124E610>\n",
    "\n",
    "\n",
    "#iterator object is given as iterable\n",
    "t6=tuple(t5)\n",
    "print (t6)#Output:('o', 'l', 'l', 'e', 'h')"
   ]
  },
  {
   "cell_type": "markdown",
   "metadata": {},
   "source": [
    "##### 3. Tuple can contain different data types also. It is written within parentheses."
   ]
  },
  {
   "cell_type": "code",
   "execution_count": 12,
   "metadata": {},
   "outputs": [
    {
     "name": "stdout",
     "output_type": "stream",
     "text": [
      "('red', 'blue', 'green')\n",
      "(1, 2, 3)\n",
      "('red', 'blue', 'green', 1, 2, 3)\n",
      "('red', 'blue', 'green', [1, 2, 3])\n"
     ]
    }
   ],
   "source": [
    "t=('red','blue','green')\n",
    "print (t) #Output: ('red', 'blue', 'green')\n",
    "\n",
    "t1=(1,2,3)\n",
    "print (t1) #Output:(1, 2, 3)\n",
    "\n",
    "t2=('red','blue','green',1,2,3)\n",
    "print (t2) #Output: ('red', 'blue', 'green', 1, 2, 3)\n",
    "\n",
    "t3=('red','blue','green',[1,2,3])\n",
    "print (t3) #Output: ('red', 'blue', 'green', [1, 2, 3])"
   ]
  },
  {
   "cell_type": "markdown",
   "metadata": {},
   "source": [
    "##### 4. Creating an empty tuple."
   ]
  },
  {
   "cell_type": "code",
   "execution_count": null,
   "metadata": {},
   "outputs": [],
   "source": [
    "t=()\n",
    "print (t) #Output: ()\n",
    "\n",
    "t1=tuple()\n",
    "print (t1) #Output: ()"
   ]
  },
  {
   "cell_type": "markdown",
   "metadata": {},
   "source": [
    "##### 6. Creating a nested tuple"
   ]
  },
  {
   "cell_type": "code",
   "execution_count": 13,
   "metadata": {},
   "outputs": [
    {
     "name": "stdout",
     "output_type": "stream",
     "text": [
      "((1, 2, 3), 4, 5, 6)\n"
     ]
    }
   ],
   "source": [
    "t1=(1,2,3)\n",
    "t2=t1,4,5,6\n",
    "print (t2)#Output:((1, 2, 3), 4, 5, 6)"
   ]
  },
  {
   "cell_type": "markdown",
   "metadata": {},
   "source": [
    "##### Tuples are immutable"
   ]
  },
  {
   "cell_type": "code",
   "execution_count": 14,
   "metadata": {},
   "outputs": [
    {
     "ename": "TypeError",
     "evalue": "'tuple' object does not support item assignment",
     "output_type": "error",
     "traceback": [
      "\u001b[0;31m---------------------------------------------------------------------------\u001b[0m",
      "\u001b[0;31mTypeError\u001b[0m                                 Traceback (most recent call last)",
      "Input \u001b[0;32mIn [14]\u001b[0m, in \u001b[0;36m<cell line: 2>\u001b[0;34m()\u001b[0m\n\u001b[1;32m      1\u001b[0m t1\u001b[38;5;241m=\u001b[39m(\u001b[38;5;241m1\u001b[39m,\u001b[38;5;241m2\u001b[39m,\u001b[38;5;241m3\u001b[39m)\n\u001b[0;32m----> 2\u001b[0m \u001b[43mt1\u001b[49m\u001b[43m[\u001b[49m\u001b[38;5;241;43m3\u001b[39;49m\u001b[43m]\u001b[49m\u001b[38;5;241m=\u001b[39m\u001b[38;5;241m5\u001b[39m\n",
      "\u001b[0;31mTypeError\u001b[0m: 'tuple' object does not support item assignment"
     ]
    }
   ],
   "source": [
    "t1=(1,2,3)\n",
    "t1[3]=5\n",
    "#Output:    \n",
    "# t1[3]=5\n",
    "#TypeError: 'tuple' object does not support item assignment"
   ]
  },
  {
   "cell_type": "markdown",
   "metadata": {},
   "source": [
    "##### Tuples Are Sequences\n",
    "##### Since tuples are sequences, just like strings, they also have a length that you can access using len():"
   ]
  },
  {
   "cell_type": "code",
   "execution_count": 15,
   "metadata": {},
   "outputs": [
    {
     "name": "stdout",
     "output_type": "stream",
     "text": [
      "0\n",
      "2\n"
     ]
    }
   ],
   "source": [
    "empty_tuple = ()\n",
    "print(len(empty_tuple))  # OUTPUT: 0\n",
    "\n",
    "tup = (\"hello\", \"there\")\n",
    "print(len(tup))  # OUTPUT: 2\n"
   ]
  },
  {
   "cell_type": "markdown",
   "metadata": {},
   "source": [
    "##### Because tuples are sequences, you can also iterate over their elements using loops. "
   ]
  },
  {
   "cell_type": "code",
   "execution_count": 21,
   "metadata": {},
   "outputs": [
    {
     "name": "stdout",
     "output_type": "stream",
     "text": [
      "1\n",
      "42\n",
      "hello!\n"
     ]
    }
   ],
   "source": [
    "for element in (1, 42, \"hello!\"):\n",
    "    print(element)"
   ]
  },
  {
   "cell_type": "markdown",
   "metadata": {},
   "source": [
    "##### Tuple Elements Have An Index"
   ]
  },
  {
   "cell_type": "code",
   "execution_count": 18,
   "metadata": {},
   "outputs": [
    {
     "name": "stdout",
     "output_type": "stream",
     "text": [
      "42\n"
     ]
    }
   ],
   "source": [
    "tup = (1, 42, \"hello!\")\n",
    "print(tup[1])  # OUTPUT: 42"
   ]
  },
  {
   "cell_type": "markdown",
   "metadata": {},
   "source": [
    "##### Keep in mind that neither tup nor tup2 has changed at all. They are immutable and can't change, but you can use them to create new tuple elements. Like with strings, you can also overwrite the variable reference to an existing tuple with a new tuple object"
   ]
  },
  {
   "cell_type": "code",
   "execution_count": 1,
   "metadata": {},
   "outputs": [
    {
     "name": "stdout",
     "output_type": "stream",
     "text": [
      "(1, 42, 123, 999)\n"
     ]
    }
   ],
   "source": [
    "tup = (1, 42)\n",
    "tup2 = (123, 999)\n",
    "tup = tup + tup2\n",
    "print(tup)  # OUTPUT: (1, 42, 123, 999)\n"
   ]
  }
 ],
 "metadata": {
  "kernelspec": {
   "display_name": "Python 3",
   "language": "python",
   "name": "python3"
  },
  "language_info": {
   "codemirror_mode": {
    "name": "ipython",
    "version": 3
   },
   "file_extension": ".py",
   "mimetype": "text/x-python",
   "name": "python",
   "nbconvert_exporter": "python",
   "pygments_lexer": "ipython3",
   "version": "3.10.5"
  }
 },
 "nbformat": 4,
 "nbformat_minor": 2
}
