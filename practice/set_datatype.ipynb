{
 "cells": [
  {
   "cell_type": "markdown",
   "metadata": {},
   "source": [
    "## Python Set"
   ]
  },
  {
   "cell_type": "markdown",
   "metadata": {},
   "source": [
    "##### A set is an unordered collection with no duplicate elements. Basic uses include membership testing and eliminating duplicate entries. Set objects also support mathematical operations like union, intersection, difference, and symmetric difference.\n"
   ]
  },
  {
   "cell_type": "code",
   "execution_count": 2,
   "metadata": {},
   "outputs": [
    {
     "name": "stdout",
     "output_type": "stream",
     "text": [
      "{1, 2, 3}\n",
      "{1, 2, 3}\n",
      "set()\n"
     ]
    }
   ],
   "source": [
    "s1 = {1, 2, 3}  \n",
    "print(s1)\n",
    "# OUTPUT: {1, 2, 3}\n",
    "\n",
    "s2 = set([1, 2, 3])  \n",
    "print(s2)\n",
    "# OUTPUT: {1, 2, 3}\n",
    "\n",
    "s3 = set()\n",
    "print(s3)  \n",
    "# OUTPUT: {}\n"
   ]
  },
  {
   "cell_type": "markdown",
   "metadata": {},
   "source": [
    "#### elemenating duplicates"
   ]
  },
  {
   "cell_type": "code",
   "execution_count": 4,
   "metadata": {},
   "outputs": [
    {
     "name": "stdout",
     "output_type": "stream",
     "text": [
      "{'http://www.setsareuseful.com', 'http://www.example.com'}\n"
     ]
    }
   ],
   "source": [
    "url_list = ['http://www.example.com', \n",
    "'http://www.setsareuseful.com', \n",
    "'http://www.example.com']\n",
    "\n",
    "unique_urls = set(url_list)\n",
    "print(unique_urls)  \n",
    "# OUTPUT: {'http://www.example.com', 'http://www.setsareuseful.com'}\n"
   ]
  },
  {
   "cell_type": "markdown",
   "metadata": {},
   "source": [
    "#### Using Set Operations"
   ]
  },
  {
   "cell_type": "code",
   "execution_count": 7,
   "metadata": {},
   "outputs": [
    {
     "name": "stdout",
     "output_type": "stream",
     "text": [
      "{1, 2, 3, 4, 5, 7, 8, 9, 10, 11}\n",
      "{1, 2, 3, 4, 5, 7, 8, 9, 10, 11}\n"
     ]
    }
   ],
   "source": [
    "a = {1,2,3,4,5}\n",
    "b = {7,8,9,10,11}\n",
    "new_set = a.union(b) # Returns a new set that contains all elements of A and B.\n",
    "print(new_set)\n",
    "a.update(b) # Returns a new set that contains all elements of A and B.\n",
    "print(a)\n"
   ]
  },
  {
   "cell_type": "code",
   "execution_count": 12,
   "metadata": {},
   "outputs": [
    {
     "name": "stdout",
     "output_type": "stream",
     "text": [
      "{6}\n",
      "{1, 2, 3, 4, 5}\n",
      "{1, 2, 3, 4, 5}\n"
     ]
    }
   ],
   "source": [
    "a = {1,2,3,4,5,6}\n",
    "b = {6,7,8,9,10,11}\n",
    "\n",
    "common_num = a.intersection(b)  # Returns a new set that contains the elements that are in both A and B.\n",
    "print(common_num)\n",
    "\n",
    "differce_num = a.difference(b) # Returns the elements that are included in A but not included in B.\n",
    "print(differce_num)\n",
    "a.difference_update(b) #Removes all elements of B from the set A.\n",
    "print(a)"
   ]
  },
  {
   "cell_type": "code",
   "execution_count": 18,
   "metadata": {},
   "outputs": [
    {
     "name": "stdout",
     "output_type": "stream",
     "text": [
      "{1, 2, 3, 4, 5, 7, 8, 9, 10, 11}\n",
      "{1, 2, 3, 4, 5, 7, 8, 9, 10, 11}\n"
     ]
    }
   ],
   "source": [
    "a = {1,2,3,4,5}\n",
    "b = {7,8,9,10,11}\n",
    "\n",
    "new_set = a|b  # Returns a new set that contains all elements of A and B.\n",
    "print(new_set) # Returns a new set that contains all elements of A and B.\n",
    "a|=b\n",
    "print(a)"
   ]
  },
  {
   "cell_type": "code",
   "execution_count": 19,
   "metadata": {},
   "outputs": [
    {
     "name": "stdout",
     "output_type": "stream",
     "text": [
      "{6}\n",
      "{1, 2, 3, 4, 5}\n",
      "{1, 2, 3, 4, 5}\n"
     ]
    }
   ],
   "source": [
    "a = {1,2,3,4,5,6}\n",
    "b = {6,7,8,9,10,11}\n",
    "\n",
    "common_num = a & b # Returns a new set that contains the elements that are in both A and B.\n",
    "print(common_num)\n",
    "\n",
    "differnt_num = a-b # Returns the elements that are included in A but not included in B.\n",
    "print(differnt_num)\n",
    "\n",
    "a-=b  # Removes all elements of B from the set A.\n",
    "print(a)"
   ]
  },
  {
   "cell_type": "code",
   "execution_count": null,
   "metadata": {},
   "outputs": [],
   "source": []
  }
 ],
 "metadata": {
  "kernelspec": {
   "display_name": "Python 3",
   "language": "python",
   "name": "python3"
  },
  "language_info": {
   "codemirror_mode": {
    "name": "ipython",
    "version": 3
   },
   "file_extension": ".py",
   "mimetype": "text/x-python",
   "name": "python",
   "nbconvert_exporter": "python",
   "pygments_lexer": "ipython3",
   "version": "3.10.5"
  }
 },
 "nbformat": 4,
 "nbformat_minor": 2
}
