{
 "cells": [
  {
   "cell_type": "markdown",
   "metadata": {},
   "source": [
    "## Python Dictionary"
   ]
  },
  {
   "cell_type": "markdown",
   "metadata": {},
   "source": [
    "#### Performing a Dictionary Lookup"
   ]
  },
  {
   "cell_type": "code",
   "execution_count": 8,
   "metadata": {},
   "outputs": [
    {
     "name": "stdout",
     "output_type": "stream",
     "text": [
      "22\n"
     ]
    }
   ],
   "source": [
    "users = {\"mary\": 22, \"caroline\": 99, \"harry\": 24}\n",
    "\n",
    "print(users[\"mary\"])\n",
    " # OUTPUT: 22"
   ]
  },
  {
   "cell_type": "markdown",
   "metadata": {},
   "source": [
    "#### Editing a Value"
   ]
  },
  {
   "cell_type": "code",
   "execution_count": 9,
   "metadata": {},
   "outputs": [
    {
     "name": "stdout",
     "output_type": "stream",
     "text": [
      "20\n"
     ]
    }
   ],
   "source": [
    "users = {'mary': 22, 'caroline': 99, 'harry': 24}\n",
    "\n",
    "users['mary'] = 20\n",
    "print(users['mary'])\n",
    "# OUTPUT: 20"
   ]
  },
  {
   "cell_type": "markdown",
   "metadata": {},
   "source": [
    "#### Adding A Key-Value Pair"
   ]
  },
  {
   "cell_type": "code",
   "execution_count": 10,
   "metadata": {},
   "outputs": [
    {
     "name": "stdout",
     "output_type": "stream",
     "text": [
      "{'mary': 22, 'caroline': 99, 'harry': 24, 'cristine': 26}\n"
     ]
    }
   ],
   "source": [
    "users = {'mary': 22, 'caroline': 99, 'harry': 24}\n",
    "users['cristine'] = 26\n",
    "print(users)"
   ]
  },
  {
   "cell_type": "markdown",
   "metadata": {},
   "source": [
    "#### Dictionaries (dict) in Python are mutable mappings that consist of key-value pairs\n",
    "\n",
    "#### Keys need to be immutable data types, such as str, int, or tuple, and need to be unique \n",
    "#### Values can be any Python data type and can contain duplicates\n",
    "#### Dictionaries are a commonly used data structure that gives you a lot of flexibility to store data and quickly find that data."
   ]
  },
  {
   "cell_type": "markdown",
   "metadata": {},
   "source": [
    "#### Python: Iterate Dictionary"
   ]
  },
  {
   "cell_type": "code",
   "execution_count": 28,
   "metadata": {},
   "outputs": [
    {
     "name": "stdout",
     "output_type": "stream",
     "text": [
      "mary\n",
      "caroline\n",
      "harry\n",
      "mary\n",
      "caroline\n",
      "harry\n",
      "mary 22\n",
      "caroline 99\n",
      "harry 24\n",
      "22\n",
      "99\n",
      "24\n"
     ]
    }
   ],
   "source": [
    "users = {'mary': 22, 'caroline': 99, 'harry': 24}\n",
    "\n",
    "for k in users:\n",
    "     print(k)\n",
    "     \n",
    "for key in users.keys():\n",
    "     print(key)\n",
    "     \n",
    "for k,v in users.items():\n",
    "     print(k, v)\n",
    "     \n",
    "for val in users.values():\n",
    "     print(val)\n",
    "     "
   ]
  },
  {
   "cell_type": "markdown",
   "metadata": {},
   "source": [
    "### Explore More Dictionary Methods"
   ]
  },
  {
   "cell_type": "code",
   "execution_count": 29,
   "metadata": {},
   "outputs": [
    {
     "name": "stdout",
     "output_type": "stream",
     "text": [
      "{}\n"
     ]
    }
   ],
   "source": [
    "users = {'mary': 22, 'caroline': 99, 'harry': 20}\n",
    "users.clear() \n",
    "print(users)"
   ]
  },
  {
   "cell_type": "code",
   "execution_count": 32,
   "metadata": {},
   "outputs": [
    {
     "data": {
      "text/plain": [
       "True"
      ]
     },
     "execution_count": 32,
     "metadata": {},
     "output_type": "execute_result"
    }
   ],
   "source": [
    "a = dict(one=1, two=2, three=3)\n",
    "b = {'one': 1, 'two': 2, 'three': 3}\n",
    "c = dict(zip(['one', 'two', 'three'], [1, 2, 3]))\n",
    "d = dict([('two', 2), ('one', 1), ('three', 3)])\n",
    "e = dict({'three': 3, 'one': 1, 'two': 2})\n",
    "f = dict({'one': 1, 'three': 3}, two=2)\n",
    "a == b == c == d == e == f\n"
   ]
  },
  {
   "cell_type": "code",
   "execution_count": 34,
   "metadata": {},
   "outputs": [
    {
     "name": "stdout",
     "output_type": "stream",
     "text": [
      "{'ram': 23, 'sam': 25, 'jodu': 29}\n",
      "{'ram': 23, 'sam': 25, 'jodu': 29}\n",
      "{'one': 1, 'two': 2, 'three': 3}\n"
     ]
    }
   ],
   "source": [
    "a = dict(ram = 23, sam = 25, jodu = 29 )\n",
    "b = dict(zip(['ram','sam','jodu'],[23,25,29]))\n",
    "c = dict([('one',1), ('two',2), ('three',3)])\n",
    "print(a)\n",
    "print(b)\n",
    "print(c)"
   ]
  },
  {
   "cell_type": "markdown",
   "metadata": {},
   "source": [
    "#### delete any item from dictionary"
   ]
  },
  {
   "cell_type": "code",
   "execution_count": 35,
   "metadata": {},
   "outputs": [
    {
     "name": "stdout",
     "output_type": "stream",
     "text": [
      "{'ram': 23, 'sam': 25, 'jodu': 29}\n",
      "{'sam': 25, 'jodu': 29}\n"
     ]
    }
   ],
   "source": [
    "b = dict(zip(['ram','sam','jodu'],[23,25,29]))\n",
    "print(b)\n",
    "del b['ram']\n",
    "print(b)"
   ]
  },
  {
   "cell_type": "code",
   "execution_count": null,
   "metadata": {},
   "outputs": [],
   "source": []
  }
 ],
 "metadata": {
  "kernelspec": {
   "display_name": "Python 3",
   "language": "python",
   "name": "python3"
  },
  "language_info": {
   "codemirror_mode": {
    "name": "ipython",
    "version": 3
   },
   "file_extension": ".py",
   "mimetype": "text/x-python",
   "name": "python",
   "nbconvert_exporter": "python",
   "pygments_lexer": "ipython3",
   "version": "3.10.5"
  }
 },
 "nbformat": 4,
 "nbformat_minor": 2
}
