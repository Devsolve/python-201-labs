{
 "cells": [
  {
   "cell_type": "markdown",
   "metadata": {},
   "source": [
    "# Function"
   ]
  },
  {
   "cell_type": "markdown",
   "metadata": {},
   "source": [
    "#### Function Anatomy"
   ]
  },
  {
   "cell_type": "code",
   "execution_count": 2,
   "metadata": {},
   "outputs": [
    {
     "name": "stdout",
     "output_type": "stream",
     "text": [
      "Hi, Ahi! how are you?\n",
      "Hello, World! how are you?\n",
      "Good Morning, Jay! how are you?\n"
     ]
    }
   ],
   "source": [
    "def greet(greeting, name):\n",
    "     sentance = f'{greeting}, {name}! how are you?'\n",
    "     return sentance\n",
    "\n",
    "print(greet(\"Hi\", \"Ahi\"))\n",
    "print(greet(\"Hello\", \"World\"))\n",
    "print(greet(name=\"Jay\", greeting=\"Good Morning\"))"
   ]
  },
  {
   "cell_type": "markdown",
   "metadata": {},
   "source": [
    "#### Python Args: The Single Asterisk (*)"
   ]
  },
  {
   "cell_type": "code",
   "execution_count": null,
   "metadata": {},
   "outputs": [
    {
     "name": "stdout",
     "output_type": "stream",
     "text": [
      "Dreshal\n",
      "Arghya\n",
      "Malancha\n",
      "Mallika\n",
      "Bithika\n",
      "Lakshmi\n",
      "Rabindra\n"
     ]
    }
   ],
   "source": [
    "def print_args(*arg):\n",
    "     for a in arg:\n",
    "          print(a)\n",
    "          \n",
    "print_args(\"Dreshal\", \"Arghya\", \"Malancha\", \"Mallika\",\"Bithika\", \"Lakshmi\", \"Rabindra\")"
   ]
  },
  {
   "cell_type": "code",
   "execution_count": 7,
   "metadata": {},
   "outputs": [
    {
     "name": "stdout",
     "output_type": "stream",
     "text": [
      "name: Alice\n",
      "age: 25\n",
      "country: Wonderland\n"
     ]
    }
   ],
   "source": [
    "def example_function(**kwargs):\n",
    "    for key, value in kwargs.items():\n",
    "        print(f\"{key}: {value}\")\n",
    "\n",
    "example_function(name=\"Alice\", age=25, country=\"Wonderland\")"
   ]
  },
  {
   "cell_type": "code",
   "execution_count": null,
   "metadata": {},
   "outputs": [
    {
     "data": {
      "text/plain": [
       "'Hii, Dreshal! How are you? \\n Hii, Arghya! How are you? \\n Hii, Malancha! How are you? \\n Hii, Mallika! How are you? \\n Hii, Bithika! How are you? \\n Hii, Lakshmi! How are you? \\n Hii, Rabindra! How are you? \\n '"
      ]
     },
     "execution_count": 11,
     "metadata": {},
     "output_type": "execute_result"
    }
   ],
   "source": [
    "def greet_many(greeting, *args):\n",
    "    \"\"\"_summary_\n",
    "\n",
    "    Args:\n",
    "        greeting (_type_): _description_\n",
    "\n",
    "    Returns:\n",
    "        _type_: _description_\n",
    "    \"\"\"\n",
    "    greetings = \"\"\n",
    "    for name in args:\n",
    "        sentence = f\"{greeting}, {name}! How are you?\"\n",
    "        greetings += sentence + \" \\n \"\n",
    "    return greetings\n",
    "\n",
    "greet_many(\"Hii\", \"Dreshal\", \"Arghya\", \"Malancha\", \"Mallika\",\"Bithika\", \"Lakshmi\", \"Rabindra\")\n"
   ]
  },
  {
   "cell_type": "markdown",
   "metadata": {},
   "source": [
    "### Docstring"
   ]
  },
  {
   "cell_type": "markdown",
   "metadata": {},
   "source": [
    "Docstrings should describe at least three aspects of your function:\n",
    "\n",
    "###### what it does\n",
    "###### what arguments it takes\n",
    "###### what it returns\n"
   ]
  },
  {
   "cell_type": "code",
   "execution_count": 16,
   "metadata": {},
   "outputs": [
    {
     "name": "stdout",
     "output_type": "stream",
     "text": [
      "Generates a greeting.\n",
      "\n",
      "    Args:\n",
      "        greeting (str): The greeting to use, e.g., \"Hello\"\n",
      "        name (str): The name of the person you want to greet\n",
      "\n",
      "    Returns:\n",
      "        str: A personalized greeting message\n",
      "    \n"
     ]
    }
   ],
   "source": [
    "def greet(greeting, name):\n",
    "    \"\"\"Generates a greeting.\n",
    "\n",
    "    Args:\n",
    "        greeting (str): The greeting to use, e.g., \"Hello\"\n",
    "        name (str): The name of the person you want to greet\n",
    "\n",
    "    Returns:\n",
    "        str: A personalized greeting message\n",
    "    \"\"\"\n",
    "    sentence = f\"{greeting}, {name}! How are you?\"\n",
    "    return sentence\n",
    "\n",
    "print(greet.__doc__)"
   ]
  },
  {
   "cell_type": "markdown",
   "metadata": {},
   "source": [
    "### What is Python Type Hinting\n"
   ]
  },
  {
   "cell_type": "code",
   "execution_count": null,
   "metadata": {},
   "outputs": [
    {
     "data": {
      "text/plain": [
       "'1, 2! How are you?'"
      ]
     },
     "execution_count": 2,
     "metadata": {},
     "output_type": "execute_result"
    }
   ],
   "source": [
    "\n",
    "\n",
    "\n",
    "def greet(greeting:str, name:str)->str:\n",
    "    \"\"\"Generates a greeting.\n",
    "\n",
    "    Args:\n",
    "        greeting (str): The greeting to use, e.g., \"Hello\"\n",
    "        name (str): The name of the person you want to greet\n",
    "\n",
    "    Returns:\n",
    "        str: A personalized greeting message\n",
    "    \"\"\"\n",
    "    sentence = f\"{greeting}, {name}! How are you?\"\n",
    "    return sentence\n",
    "\n",
    "greet()"
   ]
  },
  {
   "cell_type": "code",
   "execution_count": 1,
   "metadata": {},
   "outputs": [
    {
     "name": "stdout",
     "output_type": "stream",
     "text": [
      "Mycroft\n",
      "Mycroft\n",
      "Mycroft\n"
     ]
    }
   ],
   "source": [
    "name=\"Mycroft\"\n",
    "\n",
    "def print_name_box():\n",
    "     print(name)\n",
    "     \n",
    "     def smaller_box():\n",
    "          print(name)\n",
    "          \n",
    "          def smallest_box():\n",
    "               print(name)\n",
    "          \n",
    "          smallest_box()\n",
    "          \n",
    "     smaller_box()\n",
    "     \n",
    "print_name_box()"
   ]
  },
  {
   "cell_type": "code",
   "execution_count": 3,
   "metadata": {},
   "outputs": [
    {
     "name": "stdout",
     "output_type": "stream",
     "text": [
      "Mycroft\n",
      "Mycroft\n",
      "Mycroft\n"
     ]
    }
   ],
   "source": [
    "name = \"Mycroft\"\n",
    "\n",
    "def print_name_box():\n",
    "    print(name)\n",
    "\n",
    "    def smaller_box():\n",
    "        # (Re)assigning a variable within a local scope\n",
    "        # overwrites the same variable from an outer scope\n",
    "        # You also can't use the global variable *before*\n",
    "        # assigning it, if you assign it anywhere in that scope.\n",
    "\n",
    "        # --TASK--: uncomment the print() function below\n",
    "        #     and interpret the results when running the script\n",
    "\n",
    "        print(name)\n",
    "     #    name = \"Sherlock\"\n",
    "\n",
    "        def smallest_box():\n",
    "            # Inner scopes always draw from the next outer layer.\n",
    "            # After `name` got overwritten, the name that will\n",
    "            # be printed is NOT the global-scope name anymore\n",
    "            print(name)\n",
    "\n",
    "        smallest_box()\n",
    "\n",
    "    smaller_box()\n",
    "\n",
    "print_name_box()\n"
   ]
  },
  {
   "cell_type": "code",
   "execution_count": null,
   "metadata": {},
   "outputs": [],
   "source": []
  }
 ],
 "metadata": {
  "kernelspec": {
   "display_name": "Python 3",
   "language": "python",
   "name": "python3"
  },
  "language_info": {
   "codemirror_mode": {
    "name": "ipython",
    "version": 3
   },
   "file_extension": ".py",
   "mimetype": "text/x-python",
   "name": "python",
   "nbconvert_exporter": "python",
   "pygments_lexer": "ipython3",
   "version": "3.10.5"
  }
 },
 "nbformat": 4,
 "nbformat_minor": 2
}
